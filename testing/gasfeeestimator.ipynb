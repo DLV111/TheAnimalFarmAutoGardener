{
 "cells": [
  {
   "cell_type": "code",
   "execution_count": 2,
   "metadata": {},
   "outputs": [
    {
     "ename": "ValueError",
     "evalue": "{'code': -32000, 'message': 'err: insufficient funds for transfer: address 0x6E0d01A76C3Cf4288372a29124A26D4353EE51BE (supplied gas 12510499)'}",
     "output_type": "error",
     "traceback": [
      "\u001b[0;31m---------------------------------------------------------------------------\u001b[0m",
      "\u001b[0;31mValueError\u001b[0m                                Traceback (most recent call last)",
      "\u001b[1;32m/home/dlevene/TheAnimalFarmAutoGardener/testing/gasfeeestimator.ipynb Cell 1'\u001b[0m in \u001b[0;36m<module>\u001b[0;34m\u001b[0m\n\u001b[1;32m      <a href='vscode-notebook-cell://wsl%2Bubuntu/home/dlevene/TheAnimalFarmAutoGardener/testing/gasfeeestimator.ipynb#ch0000000vscode-remote?line=2'>3</a>\u001b[0m rpc_host \u001b[39m=\u001b[39m rpc_host\u001b[39m=\u001b[39m\u001b[39m\"\u001b[39m\u001b[39mhttps://bsc-dataseed.binance.org:443\u001b[39m\u001b[39m\"\u001b[39m\n\u001b[1;32m      <a href='vscode-notebook-cell://wsl%2Bubuntu/home/dlevene/TheAnimalFarmAutoGardener/testing/gasfeeestimator.ipynb#ch0000000vscode-remote?line=3'>4</a>\u001b[0m w3 \u001b[39m=\u001b[39m Web3(Web3\u001b[39m.\u001b[39mHTTPProvider(rpc_host))\n\u001b[0;32m----> <a href='vscode-notebook-cell://wsl%2Bubuntu/home/dlevene/TheAnimalFarmAutoGardener/testing/gasfeeestimator.ipynb#ch0000000vscode-remote?line=5'>6</a>\u001b[0m estimate \u001b[39m=\u001b[39m w3\u001b[39m.\u001b[39;49meth\u001b[39m.\u001b[39;49mestimateGas({\u001b[39m'\u001b[39;49m\u001b[39mto\u001b[39;49m\u001b[39m'\u001b[39;49m: \u001b[39m'\u001b[39;49m\u001b[39m0xd3CdA913deB6f67967B99D67aCDFa1712C293601\u001b[39;49m\u001b[39m'\u001b[39;49m, \u001b[39m'\u001b[39;49m\u001b[39mfrom\u001b[39;49m\u001b[39m'\u001b[39;49m: \u001b[39m'\u001b[39;49m\u001b[39m0x6E0d01A76C3Cf4288372a29124A26D4353EE51BE\u001b[39;49m\u001b[39m'\u001b[39;49m, \u001b[39m'\u001b[39;49m\u001b[39mvalue\u001b[39;49m\u001b[39m'\u001b[39;49m: \u001b[39m145\u001b[39;49m})\n\u001b[1;32m      <a href='vscode-notebook-cell://wsl%2Bubuntu/home/dlevene/TheAnimalFarmAutoGardener/testing/gasfeeestimator.ipynb#ch0000000vscode-remote?line=6'>7</a>\u001b[0m \u001b[39mprint\u001b[39m(\u001b[39m\"\u001b[39m\u001b[39mGas estimate is: \u001b[39m\u001b[39m\"\u001b[39m, estimate)\n",
      "File \u001b[0;32m~/.local/lib/python3.8/site-packages/web3/eth.py:825\u001b[0m, in \u001b[0;36mEth.estimate_gas\u001b[0;34m(self, transaction, block_identifier)\u001b[0m\n\u001b[1;32m    <a href='file:///home/dlevene/.local/lib/python3.8/site-packages/web3/eth.py?line=819'>820</a>\u001b[0m \u001b[39mdef\u001b[39;00m \u001b[39mestimate_gas\u001b[39m(\n\u001b[1;32m    <a href='file:///home/dlevene/.local/lib/python3.8/site-packages/web3/eth.py?line=820'>821</a>\u001b[0m     \u001b[39mself\u001b[39m,\n\u001b[1;32m    <a href='file:///home/dlevene/.local/lib/python3.8/site-packages/web3/eth.py?line=821'>822</a>\u001b[0m     transaction: TxParams,\n\u001b[1;32m    <a href='file:///home/dlevene/.local/lib/python3.8/site-packages/web3/eth.py?line=822'>823</a>\u001b[0m     block_identifier: Optional[BlockIdentifier] \u001b[39m=\u001b[39m \u001b[39mNone\u001b[39;00m\n\u001b[1;32m    <a href='file:///home/dlevene/.local/lib/python3.8/site-packages/web3/eth.py?line=823'>824</a>\u001b[0m ) \u001b[39m-\u001b[39m\u001b[39m>\u001b[39m Wei:\n\u001b[0;32m--> <a href='file:///home/dlevene/.local/lib/python3.8/site-packages/web3/eth.py?line=824'>825</a>\u001b[0m     \u001b[39mreturn\u001b[39;00m \u001b[39mself\u001b[39;49m\u001b[39m.\u001b[39;49m_estimate_gas(transaction, block_identifier)\n",
      "File \u001b[0;32m~/.local/lib/python3.8/site-packages/web3/module.py:57\u001b[0m, in \u001b[0;36mretrieve_blocking_method_call_fn.<locals>.caller\u001b[0;34m(*args, **kwargs)\u001b[0m\n\u001b[1;32m     <a href='file:///home/dlevene/.local/lib/python3.8/site-packages/web3/module.py?line=54'>55</a>\u001b[0m     \u001b[39mreturn\u001b[39;00m LogFilter(eth_module\u001b[39m=\u001b[39mmodule, filter_id\u001b[39m=\u001b[39merr\u001b[39m.\u001b[39mfilter_id)\n\u001b[1;32m     <a href='file:///home/dlevene/.local/lib/python3.8/site-packages/web3/module.py?line=55'>56</a>\u001b[0m result_formatters, error_formatters, null_result_formatters \u001b[39m=\u001b[39m response_formatters\n\u001b[0;32m---> <a href='file:///home/dlevene/.local/lib/python3.8/site-packages/web3/module.py?line=56'>57</a>\u001b[0m result \u001b[39m=\u001b[39m w3\u001b[39m.\u001b[39;49mmanager\u001b[39m.\u001b[39;49mrequest_blocking(method_str,\n\u001b[1;32m     <a href='file:///home/dlevene/.local/lib/python3.8/site-packages/web3/module.py?line=57'>58</a>\u001b[0m                                      params,\n\u001b[1;32m     <a href='file:///home/dlevene/.local/lib/python3.8/site-packages/web3/module.py?line=58'>59</a>\u001b[0m                                      error_formatters,\n\u001b[1;32m     <a href='file:///home/dlevene/.local/lib/python3.8/site-packages/web3/module.py?line=59'>60</a>\u001b[0m                                      null_result_formatters)\n\u001b[1;32m     <a href='file:///home/dlevene/.local/lib/python3.8/site-packages/web3/module.py?line=60'>61</a>\u001b[0m \u001b[39mreturn\u001b[39;00m apply_result_formatters(result_formatters, result)\n",
      "File \u001b[0;32m~/.local/lib/python3.8/site-packages/web3/manager.py:198\u001b[0m, in \u001b[0;36mRequestManager.request_blocking\u001b[0;34m(self, method, params, error_formatters, null_result_formatters)\u001b[0m\n\u001b[1;32m    <a href='file:///home/dlevene/.local/lib/python3.8/site-packages/web3/manager.py?line=193'>194</a>\u001b[0m \u001b[39m\"\"\"\u001b[39;00m\n\u001b[1;32m    <a href='file:///home/dlevene/.local/lib/python3.8/site-packages/web3/manager.py?line=194'>195</a>\u001b[0m \u001b[39mMake a synchronous request using the provider\u001b[39;00m\n\u001b[1;32m    <a href='file:///home/dlevene/.local/lib/python3.8/site-packages/web3/manager.py?line=195'>196</a>\u001b[0m \u001b[39m\"\"\"\u001b[39;00m\n\u001b[1;32m    <a href='file:///home/dlevene/.local/lib/python3.8/site-packages/web3/manager.py?line=196'>197</a>\u001b[0m response \u001b[39m=\u001b[39m \u001b[39mself\u001b[39m\u001b[39m.\u001b[39m_make_request(method, params)\n\u001b[0;32m--> <a href='file:///home/dlevene/.local/lib/python3.8/site-packages/web3/manager.py?line=197'>198</a>\u001b[0m \u001b[39mreturn\u001b[39;00m \u001b[39mself\u001b[39;49m\u001b[39m.\u001b[39;49mformatted_response(response,\n\u001b[1;32m    <a href='file:///home/dlevene/.local/lib/python3.8/site-packages/web3/manager.py?line=198'>199</a>\u001b[0m                                params,\n\u001b[1;32m    <a href='file:///home/dlevene/.local/lib/python3.8/site-packages/web3/manager.py?line=199'>200</a>\u001b[0m                                error_formatters,\n\u001b[1;32m    <a href='file:///home/dlevene/.local/lib/python3.8/site-packages/web3/manager.py?line=200'>201</a>\u001b[0m                                null_result_formatters)\n",
      "File \u001b[0;32m~/.local/lib/python3.8/site-packages/web3/manager.py:171\u001b[0m, in \u001b[0;36mRequestManager.formatted_response\u001b[0;34m(self, response, params, error_formatters, null_result_formatters)\u001b[0m\n\u001b[1;32m    <a href='file:///home/dlevene/.local/lib/python3.8/site-packages/web3/manager.py?line=168'>169</a>\u001b[0m \u001b[39mif\u001b[39;00m \u001b[39m\"\u001b[39m\u001b[39merror\u001b[39m\u001b[39m\"\u001b[39m \u001b[39min\u001b[39;00m response:\n\u001b[1;32m    <a href='file:///home/dlevene/.local/lib/python3.8/site-packages/web3/manager.py?line=169'>170</a>\u001b[0m     apply_error_formatters(error_formatters, response)\n\u001b[0;32m--> <a href='file:///home/dlevene/.local/lib/python3.8/site-packages/web3/manager.py?line=170'>171</a>\u001b[0m     \u001b[39mraise\u001b[39;00m \u001b[39mValueError\u001b[39;00m(response[\u001b[39m\"\u001b[39m\u001b[39merror\u001b[39m\u001b[39m\"\u001b[39m])\n\u001b[1;32m    <a href='file:///home/dlevene/.local/lib/python3.8/site-packages/web3/manager.py?line=171'>172</a>\u001b[0m \u001b[39m# NULL_RESPONSES includes None, so return False here as the default\u001b[39;00m\n\u001b[1;32m    <a href='file:///home/dlevene/.local/lib/python3.8/site-packages/web3/manager.py?line=172'>173</a>\u001b[0m \u001b[39m# so we don't apply the null_result_formatters if there is no 'result' key\u001b[39;00m\n\u001b[1;32m    <a href='file:///home/dlevene/.local/lib/python3.8/site-packages/web3/manager.py?line=173'>174</a>\u001b[0m \u001b[39melif\u001b[39;00m response\u001b[39m.\u001b[39mget(\u001b[39m'\u001b[39m\u001b[39mresult\u001b[39m\u001b[39m'\u001b[39m, \u001b[39mFalse\u001b[39;00m) \u001b[39min\u001b[39;00m NULL_RESPONSES:\n\u001b[1;32m    <a href='file:///home/dlevene/.local/lib/python3.8/site-packages/web3/manager.py?line=174'>175</a>\u001b[0m     \u001b[39m# null_result_formatters raise either a BlockNotFound\u001b[39;00m\n\u001b[1;32m    <a href='file:///home/dlevene/.local/lib/python3.8/site-packages/web3/manager.py?line=175'>176</a>\u001b[0m     \u001b[39m# or a TransactionNotFound error, depending on the method called\u001b[39;00m\n",
      "\u001b[0;31mValueError\u001b[0m: {'code': -32000, 'message': 'err: insufficient funds for transfer: address 0x6E0d01A76C3Cf4288372a29124A26D4353EE51BE (supplied gas 12510499)'}"
     ]
    }
   ],
   "source": [
    "from web3 import Web3, HTTPProvider\n",
    "\n",
    "rpc_host = rpc_host=\"https://bsc-dataseed.binance.org:443\"\n",
    "w3 = Web3(Web3.HTTPProvider(rpc_host))\n",
    "\n",
    "estimate = w3.eth.estimateGas({'to': '0xd3CdA913deB6f67967B99D67aCDFa1712C293601', 'from': '0x6E0d01A76C3Cf4288372a29124A26D4353EE51BE', 'value': 145})\n",
    "print(\"Gas estimate is: \", estimate)"
   ]
  }
 ],
 "metadata": {
  "interpreter": {
   "hash": "916dbcbb3f70747c44a77c7bcd40155683ae19c65e1c03b4aa3499c5328201f1"
  },
  "kernelspec": {
   "display_name": "Python 3.8.10 64-bit",
   "language": "python",
   "name": "python3"
  },
  "language_info": {
   "codemirror_mode": {
    "name": "ipython",
    "version": 3
   },
   "file_extension": ".py",
   "mimetype": "text/x-python",
   "name": "python",
   "nbconvert_exporter": "python",
   "pygments_lexer": "ipython3",
   "version": "3.8.10"
  },
  "orig_nbformat": 4
 },
 "nbformat": 4,
 "nbformat_minor": 2
}
